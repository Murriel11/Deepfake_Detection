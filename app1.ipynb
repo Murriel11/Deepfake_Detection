{
 "cells": [
  {
   "cell_type": "code",
   "execution_count": null,
   "id": "9a7c80bc",
   "metadata": {},
   "outputs": [
    {
     "name": "stderr",
     "output_type": "stream",
     "text": [
      "C:\\Users\\murri\\anaconda3\\envs\\tensenv\\lib\\site-packages\\keras\\layers\\core.py:1043: UserWarning: keras.applications.inception_resnet_v2 is not loaded, but a Lambda layer uses it. It may cause errors.\n",
      "  warnings.warn('{} is not loaded, but a Lambda layer uses it. '\n"
     ]
    },
    {
     "name": "stdout",
     "output_type": "stream",
     "text": [
      " * Serving Flask app '__main__'\n",
      " * Debug mode: on\n"
     ]
    },
    {
     "name": "stderr",
     "output_type": "stream",
     "text": [
      "WARNING: This is a development server. Do not use it in a production deployment. Use a production WSGI server instead.\n",
      " * Running on http://127.0.0.1:5000\n",
      "Press CTRL+C to quit\n",
      "127.0.0.1 - - [30/May/2024 10:11:55] \"GET / HTTP/1.1\" 200 -\n",
      "127.0.0.1 - - [30/May/2024 10:11:57] \"GET /static/style.css HTTP/1.1\" 200 -\n",
      "127.0.0.1 - - [30/May/2024 10:11:57] \"GET /static/images/img3.png HTTP/1.1\" 200 -\n",
      "127.0.0.1 - - [30/May/2024 10:11:57] \"GET /static/images/img2.jpeg HTTP/1.1\" 200 -\n",
      "127.0.0.1 - - [30/May/2024 10:11:57] \"GET /favicon.ico HTTP/1.1\" 404 -\n",
      "127.0.0.1 - - [30/May/2024 10:11:57] \"GET / HTTP/1.1\" 200 -\n",
      "127.0.0.1 - - [30/May/2024 10:12:38] \"POST /predict HTTP/1.1\" 200 -\n",
      "127.0.0.1 - - [30/May/2024 10:12:38] \"GET /static/uploads/blob?d9rgy2m9avi HTTP/1.1\" 200 -\n",
      "127.0.0.1 - - [30/May/2024 10:12:43] \"GET / HTTP/1.1\" 200 -\n",
      "127.0.0.1 - - [30/May/2024 10:12:43] \"GET /static/style.css HTTP/1.1\" 304 -\n",
      "127.0.0.1 - - [30/May/2024 10:12:43] \"GET /static/images/img2.jpeg HTTP/1.1\" 304 -\n",
      "127.0.0.1 - - [30/May/2024 10:12:43] \"GET /static/images/img3.png HTTP/1.1\" 304 -\n",
      "127.0.0.1 - - [30/May/2024 10:12:43] \"GET / HTTP/1.1\" 200 -\n",
      "127.0.0.1 - - [30/May/2024 10:12:50] \"POST /predict HTTP/1.1\" 200 -\n",
      "127.0.0.1 - - [30/May/2024 10:12:50] \"GET /static/uploads/blob?jjrtxg6wr8 HTTP/1.1\" 200 -\n",
      "127.0.0.1 - - [30/May/2024 10:12:56] \"GET / HTTP/1.1\" 200 -\n",
      "127.0.0.1 - - [30/May/2024 10:12:56] \"GET /static/style.css HTTP/1.1\" 304 -\n",
      "127.0.0.1 - - [30/May/2024 10:12:56] \"GET /static/images/img2.jpeg HTTP/1.1\" 304 -\n",
      "127.0.0.1 - - [30/May/2024 10:12:56] \"GET /static/images/img3.png HTTP/1.1\" 304 -\n",
      "127.0.0.1 - - [30/May/2024 10:12:56] \"GET / HTTP/1.1\" 200 -\n",
      "127.0.0.1 - - [30/May/2024 10:30:38] \"POST /predict HTTP/1.1\" 200 -\n",
      "127.0.0.1 - - [30/May/2024 10:30:38] \"GET /static/uploads/blob?h5xhx1lc65 HTTP/1.1\" 200 -\n",
      "127.0.0.1 - - [30/May/2024 10:30:51] \"POST /predict HTTP/1.1\" 200 -\n",
      "127.0.0.1 - - [30/May/2024 10:30:51] \"GET /static/uploads/blob?yk3a8oew3u HTTP/1.1\" 200 -\n",
      "127.0.0.1 - - [30/May/2024 10:31:23] \"POST /predict HTTP/1.1\" 200 -\n",
      "127.0.0.1 - - [30/May/2024 10:31:23] \"GET /static/uploads/blob?3aqbo743ou7 HTTP/1.1\" 200 -\n"
     ]
    }
   ],
   "source": [
    "### Main APP ###\n",
    "\n",
    "import os\n",
    "import json\n",
    "from flask import Flask, render_template, request, jsonify, url_for\n",
    "from keras.models import load_model\n",
    "from keras.preprocessing import image\n",
    "import numpy as np\n",
    "from werkzeug.utils import secure_filename\n",
    "\n",
    "app = Flask(__name__)\n",
    "\n",
    "# Load the pre-trained InceptionResNetV2 model\n",
    "model = load_model('deepfake_detection_model2.h5')\n",
    "\n",
    "# Set the upload folder\n",
    "UPLOAD_FOLDER = 'static/uploads'\n",
    "app.config['UPLOAD_FOLDER'] = UPLOAD_FOLDER\n",
    "\n",
    "# Ensure the upload folder exists\n",
    "os.makedirs(UPLOAD_FOLDER, exist_ok=True)\n",
    "\n",
    "# Function to load and preprocess a single image\n",
    "def preprocess_single_image(image_path):\n",
    "    img = image.load_img(image_path, target_size=(299, 299))\n",
    "    img = img.resize((299, 299))\n",
    "    img_array = image.img_to_array(img)\n",
    "    img_array = np.expand_dims(img_array, axis=0)\n",
    "    return img_array\n",
    "\n",
    "# Function to predict whether an image is real or fake\n",
    "def predict_single_image(model, image_path):\n",
    "    img_array = preprocess_single_image(image_path)\n",
    "    img_array /= 255.0  # Normalize pixel values\n",
    "    prediction = model.predict(img_array)\n",
    "    return prediction[0][0]\n",
    "\n",
    "# Route to render upload form\n",
    "@app.route('/')\n",
    "def index():\n",
    "    return render_template('index1.html')\n",
    "\n",
    "# Route to handle file upload and predict\n",
    "@app.route('/predict', methods=['GET', 'POST'])\n",
    "def predict():\n",
    "    if request.method == 'POST':\n",
    "        # Check if the post request has the file part\n",
    "        if 'file' not in request.files:\n",
    "            return render_template('index1.html', message='No file part')\n",
    "        file = request.files['file']\n",
    "        if file.filename == '':\n",
    "            return render_template('index1.html', message='No selected file')\n",
    "        if file:\n",
    "            # Save the uploaded file\n",
    "            filename = secure_filename(file.filename)\n",
    "            file_path = os.path.join(app.config['UPLOAD_FOLDER'], filename)\n",
    "            \n",
    "            # Open the image and rescale it\n",
    "          # Resize the image\n",
    "            file.save(file_path)\n",
    "\n",
    "            # Get prediction result\n",
    "            prediction = predict_single_image(model, file_path)\n",
    "\n",
    "            # Generate the URL for the saved file\n",
    "            img_url = url_for('static', filename=f'uploads/{filename}')\n",
    "            \n",
    "            probability = prediction\n",
    "            if probability > 0.5:\n",
    "                result = \"Deepfake Image\"\n",
    "            else:\n",
    "                result = \"Real Image\"\n",
    "            \n",
    "\n",
    "            # Return the prediction result and image URL\n",
    "            response = {\n",
    "               'img_url': img_url,\n",
    "               'prediction': np.float64(prediction).item(),\n",
    "               'file_path': file_path,\n",
    "               'result': result\n",
    "            }\n",
    "            \n",
    "            \n",
    "            #return jsonify({'img_url': img_url, 'prediction': np.float64(prediction).item()})\n",
    "            # Optionally remove the file after prediction\n",
    "            \n",
    "\n",
    "            return jsonify(response)\n",
    "\n",
    "if __name__ == '__main__':\n",
    "    app.run(debug=True, use_reloader=False)\n"
   ]
  },
  {
   "cell_type": "code",
   "execution_count": 1,
   "id": "251d873d",
   "metadata": {},
   "outputs": [
    {
     "ename": "SyntaxError",
     "evalue": "invalid syntax (369999523.py, line 1)",
     "output_type": "error",
     "traceback": [
      "\u001b[1;36m  Cell \u001b[1;32mIn[1], line 1\u001b[1;36m\u001b[0m\n\u001b[1;33m    npm install -g vercel\u001b[0m\n\u001b[1;37m        ^\u001b[0m\n\u001b[1;31mSyntaxError\u001b[0m\u001b[1;31m:\u001b[0m invalid syntax\n"
     ]
    }
   ],
   "source": [
    "npm install -g vercel"
   ]
  },
  {
   "cell_type": "code",
   "execution_count": null,
   "id": "c180dcc2",
   "metadata": {},
   "outputs": [],
   "source": []
  }
 ],
 "metadata": {
  "kernelspec": {
   "display_name": "Python 3 (ipykernel)",
   "language": "python",
   "name": "python3"
  },
  "language_info": {
   "codemirror_mode": {
    "name": "ipython",
    "version": 3
   },
   "file_extension": ".py",
   "mimetype": "text/x-python",
   "name": "python",
   "nbconvert_exporter": "python",
   "pygments_lexer": "ipython3",
   "version": "3.9.17"
  }
 },
 "nbformat": 4,
 "nbformat_minor": 5
}
